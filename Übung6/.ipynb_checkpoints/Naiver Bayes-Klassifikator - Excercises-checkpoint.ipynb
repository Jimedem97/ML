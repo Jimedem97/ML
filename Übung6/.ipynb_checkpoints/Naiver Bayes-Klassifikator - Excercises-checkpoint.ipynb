{
 "cells": [
  {
   "cell_type": "markdown",
   "metadata": {},
   "source": [
    "# Naiver Bayes-Klassifikator\n",
    "\n",
    "\n",
    "Datengrundlage für die folgende Aufgabenstellung ist der Titanic-Datensatz, unter /Data abgelegt.\n",
    "\n",
    "In dieser Aufgabe sollen Sie einen Klassifikator auf Basis des Bayes-Theorem's selbst implementieren. Wir nehmen für diese Aufgabe an, dass die einzelnen Merkmale unabhängig voneinander sind. Man spricht in der Literatur von einem naiven Bayes-Klassifikator. Formal lässt sich der naive Bayes-Klassifikator wie folgt beschreiben:\n",
    "\n",
    "Gegeben sei ein Merkmalsvektor $\\vec x = (x_1,\\dots, x_n)$  bestehend aus $n$ Merkmalen. Des Weiteren sei $L = \\{C_1,\\dots,C_K\\}$ die Menge von möglichen Klassen. Dann berechnet sich nach Bayes die a posteriori Wahrscheinlichkeit \n",
    "\n",
    "$p(C_k \\vert \\vec{x}) = \\frac{P(C_k) \\ p(\\vec{x} \\vert C_k)}{p(\\vec{x})} \\,$ mit $p(\\vec x) = \\sum_{k\\in L} P(C_k) \\ p(\\vec{x} \\vert C_k) .$\n",
    "\n",
    "Nimmt man an, dass die einzenen Merkmale $x_1,\\dots,x_i$ unabhängig voneinander sind, lässt sich die a posteriori Wahrscheinlichkeit wie folgt berechnen:\n",
    "\n",
    "$p(C_k \\vert x_1, \\dots, x_n) = \\frac{P(C_k) \\prod_{i=1}^n p(x_i \\vert C_k)}{p(\\vec x)}$\n",
    "\n",
    "Da $p(x)$ für ein gegebenen Merkmalsvektor $\\vec x$ konstant ist, und somit die Entscheidung nicht beeinflusst, kann der naive Bayes-Klassifikator wie folgt formuliert werden:\n",
    "\n",
    "$C_y = \\operatorname{argmax}_{k \\in L} P(C_k) \\prod_{i=1}^n p(x_i \\vert C_k)$ \n",
    "\n",
    "\n",
    "Ziel dieser Aufgabe ist einen solchen naiven Bayes-Klassifikator für die konkrete Anwendung zu implementieren. Idealerweise verwendet man dafür einen großen Datensatz. Für das Verständnis des Algorithmus erfolgt die Implementierung anhand des bereits bekannten Titanic-Datensatzes. "
   ]
  },
  {
   "cell_type": "markdown",
   "metadata": {},
   "source": [
    "## 1.) Vorbereitungen\n"
   ]
  },
  {
   "cell_type": "code",
   "execution_count": 115,
   "metadata": {},
   "outputs": [],
   "source": [
    "import numpy as np\n",
    "import csv as csv\n",
    "import matplotlib.pyplot as plt\n",
    "import pandas as pd\n",
    "import itertools\n",
    "import math\n",
    "DATA_FILE = './Data/original_titanic.csv'\n",
    "df = pd.read_csv(DATA_FILE, header=0)"
   ]
  },
  {
   "cell_type": "markdown",
   "metadata": {},
   "source": [
    "Gerne können Sie zum Füllen der Datenlücken auch Ihre Implementierung aus den vorherigen Aufgabe einsetzen..."
   ]
  },
  {
   "cell_type": "code",
   "execution_count": 116,
   "metadata": {},
   "outputs": [],
   "source": [
    "def prepareData(df):\n",
    "    df.loc[(df.Age.isnull()) & (df.Sex == 'male'),'Age'] = df[df.Sex == 'male'].median()\n",
    "    df.loc[(df.Age.isnull()) & (df.Sex == 'female'),'Age'] = df[df.Sex == 'female'].median()\n",
    "    df.loc[df.Age.isnull(),'Age']= df.Age.median()\n",
    "    return df\n",
    "df = prepareData(df)"
   ]
  },
  {
   "cell_type": "markdown",
   "metadata": {},
   "source": [
    "## 1.1) A Priori Wahrscheinlichkeiten\n",
    "Bestimmen Sie die A-Priori Wahrscheinlichkeiten $P(C_{survived})$ sowie $P(C_{\\neg survived})$ anhand der Stichprobe."
   ]
  },
  {
   "cell_type": "code",
   "execution_count": null,
   "metadata": {},
   "outputs": [],
   "source": []
  },
  {
   "cell_type": "code",
   "execution_count": 149,
   "metadata": {},
   "outputs": [
    {
     "name": "stdout",
     "output_type": "stream",
     "text": [
      "Survived    0.381971\n",
      "dtype: float64\n",
      "Survived    0.618029\n",
      "dtype: float64\n"
     ]
    }
   ],
   "source": [
    "aPrioriSurvived = (df[['Survived']][(df.Survived == 1)].count()/df.Survived.count())\n",
    "print(aPrioriSurvived)\n",
    "\n",
    "aPrioriNotSurvived = (df[['Survived']][(df.Survived == 0)].count()/df.Survived.count())\n",
    "print(aPrioriNotSurvived)"
   ]
  },
  {
   "cell_type": "markdown",
   "metadata": {},
   "source": [
    "## 1.2) Klassenbedingte Wahrscheinlichkeiten (likelihood)\n",
    "Ziel dieser Aufgabe ist es die klassenbedingten Wahrscheinlichkeiten $p(\\vec{x} \\vert C_k)$ für die Merkmale *Age, Fare, Sex und Pclass* zu bestimmen."
   ]
  },
  {
   "cell_type": "markdown",
   "metadata": {},
   "source": [
    "### Quantitative Merkmale\n",
    "Im folgenden sollen die Parameter der normalverteilen Wahrscheinlichkeitsdichtefunktion (WDF) für die Merkmal *Age* und *Fare* geschätzt werden. \n",
    "\n",
    "Visualisieren Sie zuerst die diskrete klassenbedingte Verteilung des Merkmales *Fare*."
   ]
  },
  {
   "cell_type": "code",
   "execution_count": 118,
   "metadata": {},
   "outputs": [
    {
     "data": {
      "text/plain": [
       "array([[<matplotlib.axes._subplots.AxesSubplot object at 0x0000025F37EA6190>]],\n",
       "      dtype=object)"
      ]
     },
     "execution_count": 118,
     "metadata": {},
     "output_type": "execute_result"
    },
    {
     "data": {
      "image/png": "[encoded data removed]",
      "text/plain": [
       "<Figure size 432x288 with 1 Axes>"
      ]
     },
     "metadata": {
      "needs_background": "light"
     },
     "output_type": "display_data"
    },
    {
     "data": {
      "image/png": "[encoded data removed]",
      "text/plain": [
       "<Figure size 432x288 with 1 Axes>"
      ]
     },
     "metadata": {
      "needs_background": "light"
     },
     "output_type": "display_data"
    }
   ],
   "source": [
    "df[['Fare']][(df.Survived == 1)].hist(bins=20)\n",
    "df[['Fare']][(df.Survived == 0)].hist()"
   ]
  },
  {
   "cell_type": "markdown",
   "metadata": {},
   "source": [
    "Schätzen Sie die Parameter der klassenbedingten Wahrscheinlichkeitsdichtefunktion $p(Fare \\vert C_{survived}),p(Fare \\vert C_{\\neg survived})$ (Maximum-Likelihood Methode). Gehen Sie dabei von einer Normalverteilung aus. Visualisieren Sie die WDFs. Wie bewerten Sie die Trennungswirksamkeit dieses Merkmales?\n",
    "\n",
    "\n",
    "Dichtefunktion:$ \\frac{1}{\\sqrt{2\\pi\\sigma^2}} exp \\{- \\frac{(x-\\mu)^2}{2\\sigma^2} \\} $"
   ]
  },
  {
   "cell_type": "code",
   "execution_count": 119,
   "metadata": {
    "scrolled": true
   },
   "outputs": [],
   "source": [
    "#define a generic gaussian function.\n",
    "def gaussian(x, mu, sig):\n",
    "    v = 1/(math.sqrt(2*math.pi*(sig**2)))\n",
    "    return v*math.e**(-((x-mu)**2)/(2*sig**2))\n",
    "    \n",
    "def pFareSurvived(fare):\n",
    "    fareDf = df[df.Survived == 1].Fare\n",
    "    mu = fareDf.mean()\n",
    "    sig = fareDf.std()\n",
    "    return gaussian(fare, mu, sig)\n",
    "\n",
    "def pFareNotSurvived(fare):\n",
    "    fareDf = df[df.Survived == 0].Fare\n",
    "    mu = fareDf.mean()\n",
    "    sig = fareDf.std()\n",
    "    return  gaussian(fare, mu, sig)"
   ]
  },
  {
   "cell_type": "markdown",
   "metadata": {},
   "source": [
    "Schätzen Sie analog die Parameter der klassenbedingten Wahrscheinlichkeitsdichtefunktion $p(Age \\vert C_{survived}),p(Age \\vert C_{\\neg survived})$ (Maximum-Likelihood Methode). Gehen Sie auch hier von einer Normalverteilung aus. Visualisieren Sie die WDFs. Wie bewerten Sie die Trennungswirksamkeit dieses Merkmales?"
   ]
  },
  {
   "cell_type": "code",
   "execution_count": 163,
   "metadata": {},
   "outputs": [
    {
     "data": {
      "text/plain": [
       "<matplotlib.axes._subplots.AxesSubplot at 0x25f396943d0>"
      ]
     },
     "execution_count": 163,
     "metadata": {},
     "output_type": "execute_result"
    },
    {
     "data": {
      "image/png": "[encoded data removed]",
      "text/plain": [
       "<Figure size 432x288 with 1 Axes>"
      ]
     },
     "metadata": {
      "needs_background": "light"
     },
     "output_type": "display_data"
    }
   ],
   "source": [
    "df_copy = df \n",
    "df_copy['Fare'].apply(pFareSurvived).hist()\n",
    "df_copy['Fare'].apply(pFareNotSurvived).hist()"
   ]
  },
  {
   "cell_type": "code",
   "execution_count": 123,
   "metadata": {},
   "outputs": [],
   "source": [
    "#pFareNotSurvived(df[df.Survived == 0].Fare).hist()"
   ]
  },
  {
   "cell_type": "code",
   "execution_count": 124,
   "metadata": {
    "scrolled": true
   },
   "outputs": [],
   "source": [
    "def pAgeSurvived(age): \n",
    "    ageDf = df[df.Survived == 1].Age\n",
    "    mu = ageDf.mean()\n",
    "    sig = ageDf.std()\n",
    "    return gaussian(age, mu, sig)\n",
    " \n",
    "def pAgeNotSurvived(age):    \n",
    "    ageDf = df[df.Survived == 0].Age\n",
    "    mu = ageDf.mean()\n",
    "    sig = ageDf.std()\n",
    "    return gaussian(age, mu, sig)"
   ]
  },
  {
   "cell_type": "code",
   "execution_count": 164,
   "metadata": {},
   "outputs": [
    {
     "data": {
      "text/plain": [
       "<matplotlib.axes._subplots.AxesSubplot at 0x25f39707a00>"
      ]
     },
     "execution_count": 164,
     "metadata": {},
     "output_type": "execute_result"
    },
    {
     "data": {
      "image/png": "[encoded data removed]",
      "text/plain": [
       "<Figure size 432x288 with 1 Axes>"
      ]
     },
     "metadata": {
      "needs_background": "light"
     },
     "output_type": "display_data"
    }
   ],
   "source": [
    "df_copy = df \n",
    "df_copy['Age'].apply(pAgeSurvived).hist()\n",
    "df_copy['Age'].apply(pAgeNotSurvived).hist()"
   ]
  },
  {
   "cell_type": "markdown",
   "metadata": {},
   "source": [
    "### Kategoriale Merkmale\n",
    "In dem vorliegenden Datensatz sind einige kategoriale (qualitative) Merkmale enthalten. Da die klassenbedingten Wahrscheinlichkeiten für diese Merkmale nicht mit kontinuierlichen Dichtefunktionen geschätzt werden können, wird die relative Häufigkeit eingesetzt.\n",
    "\n",
    "\n",
    "Visualisieren sie die absolute Häufigkeiten für das Merkmal *Pclass* für die Klassenzugehörigkeit *Survived* und *Not Survived*. \n",
    "\n",
    "\n"
   ]
  },
  {
   "cell_type": "code",
   "execution_count": null,
   "metadata": {},
   "outputs": [],
   "source": []
  },
  {
   "cell_type": "code",
   "execution_count": 126,
   "metadata": {},
   "outputs": [
    {
     "data": {
      "text/plain": [
       "array([<matplotlib.axes._subplots.AxesSubplot object at 0x0000025F395D95E0>,\n",
       "       <matplotlib.axes._subplots.AxesSubplot object at 0x0000025F395FDB80>],\n",
       "      dtype=object)"
      ]
     },
     "execution_count": 126,
     "metadata": {},
     "output_type": "execute_result"
    },
    {
     "data": {
      "image/png": "[encoded data removed]",
      "text/plain": [
       "<Figure size 432x288 with 2 Axes>"
      ]
     },
     "metadata": {
      "needs_background": "light"
     },
     "output_type": "display_data"
    }
   ],
   "source": [
    "df.Pclass.hist(by=df.Survived)"
   ]
  },
  {
   "cell_type": "markdown",
   "metadata": {},
   "source": [
    "Bestimmen Sie die klassenbedingten Wahrscheinlichkeiten $p(Pclass \\vert C_{survived}),p(Pclass \\vert C_{\\neg survived})$ anhand der entsprechenden relativen Häufigkeiten und geben Sie das Ergebniss aus. Wie bewerten Sie die Trennungswirksamkeit dieses Merkmales?"
   ]
  },
  {
   "cell_type": "code",
   "execution_count": 127,
   "metadata": {
    "scrolled": true
   },
   "outputs": [],
   "source": [
    "def pPClassSurvived(x):\n",
    "    return len(df[(df.Survived == 1) & (df.Pclass == x)])/len(df[df.Survived == 1])\n",
    "\n",
    "def pPClassNotSurvived(x):\n",
    "    return len(df[(df.Survived == 0) & (df.Pclass == x)])/len(df[df.Survived == 0])"
   ]
  },
  {
   "cell_type": "code",
   "execution_count": 128,
   "metadata": {},
   "outputs": [
    {
     "name": "stdout",
     "output_type": "stream",
     "text": [
      "class 1:  p(Pclass|surv): 0.400000\tp(Pclass|notSurv): 0.152040\n",
      "class 2:  p(Pclass|surv): 0.238000\tp(Pclass|notSurv): 0.195303\n",
      "class 3:  p(Pclass|surv): 0.362000\tp(Pclass|notSurv): 0.652658\n"
     ]
    }
   ],
   "source": [
    "for pc in (1,2,3):\n",
    "    print(\"class %d:  p(Pclass|surv): %f\\tp(Pclass|notSurv): %f\" % (pc,pPClassSurvived(pc),pPClassNotSurvived(pc)))"
   ]
  },
  {
   "cell_type": "markdown",
   "metadata": {},
   "source": [
    "Bestimmen sie analog die klassenbedingten Wahrscheinlichkeiten $p(Sex \\vert C_{survived}),p(Sex \\vert C_{\\neg survived})$. Wie bewerten Sie die Trennungswirksamkeit dieses Merkmales?"
   ]
  },
  {
   "cell_type": "code",
   "execution_count": 129,
   "metadata": {},
   "outputs": [
    {
     "name": "stdout",
     "output_type": "stream",
     "text": [
      "sex male:  p(Sex|surv): 0.322000\tp(Sex|notSurv): 0.843016\n",
      "sex female:  p(Sex|surv): 0.678000\tp(Sex|notSurv): 0.156984\n"
     ]
    }
   ],
   "source": [
    "def pSexSurvived(x):\n",
    "    return len(df[(df.Survived == 1) & (df.Sex == x)])/len(df[df.Survived == 1])\n",
    "\n",
    "def pSexNotSurvived(x):\n",
    "    return len(df[(df.Survived == 0) & (df.Sex == x)])/len(df[df.Survived == 0])\n",
    "\n",
    "for s in ('male', 'female'):\n",
    "    print(\"sex %s:  p(Sex|surv): %f\\tp(Sex|notSurv): %f\" % (s,pSexSurvived(s),pSexNotSurvived(s)))"
   ]
  },
  {
   "cell_type": "markdown",
   "metadata": {},
   "source": [
    "## 1.3) Klassifikator implementieren\n",
    "\n",
    "Fügen Sie nun alle Bestandteile für den naiven Bayes-Klassifikator zusammen. Berechnen Sie zuerst die a posteriori Wahrscheinlichkeiten $p(C_k \\vert x_1, \\dots, x_n) = \\frac{P(C_k) \\prod_{i=1}^n p(x_i \\vert C_k)}{p(\\vec x)}$ für die beiden Klassen. Geben Sie die Ergebnisse für einen exemplarischen Merkmalsvektor $\\vec x = (x_1,\\dots, x_n)$ aus. "
   ]
  },
  {
   "cell_type": "code",
   "execution_count": 130,
   "metadata": {},
   "outputs": [],
   "source": [
    "#example feature vector. \n",
    "x=dict(Age=25,Sex='female',Pclass=1,Fare=100)"
   ]
  },
  {
   "cell_type": "code",
   "execution_count": 139,
   "metadata": {},
   "outputs": [],
   "source": [
    "def numeratorPosteriorSurvived(x):\n",
    "    return aPrioriSurvived * pAgeSurvived(x['Age']) * pSexSurvived(x['Sex']) * pPClassSurvived(x['Pclass']) * pFareSurvived(x['Fare'])\n",
    "\n",
    "def numeratorPosteriorNotSurvived(x):\n",
    "    return aPrioriNotSurvived * pAgeNotSurvived(x['Age']) * pSexNotSurvived(x['Sex']) * pPClassNotSurvived(x['Pclass']) * pFareNotSurvived(x['Fare'])\n",
    "\n",
    "#the evidence is the dominator p(x) of the posterior\n",
    "def evidence(x):\n",
    "    return numeratorPosteriorSurvived(x) + numeratorPosteriorNotSurvived(x)\n",
    "    \n",
    "def posteriorSurvived(x): \n",
    "    return numeratorPosteriorSurvived(x)/evidence(x)                  \n",
    "    \n",
    "def posteriorNotSurvived(x):\n",
    "    return numeratorPosteriorNotSurvived(x)/evidence(x)   "
   ]
  },
  {
   "cell_type": "markdown",
   "metadata": {},
   "source": [
    "$p(\\vec x) = \\sum_{k\\in L} P(C_k) \\ p(\\vec{x} \\vert C_k)"
   ]
  },
  {
   "cell_type": "code",
   "execution_count": 150,
   "metadata": {
    "scrolled": true
   },
   "outputs": [
    {
     "name": "stdout",
     "output_type": "stream",
     "text": [
      "Survived    0.000013\n",
      "dtype: float64\n",
      "p(survived|x) = 0.968111 \n",
      "p(notSurvived|x) = 0.031889 \n"
     ]
    }
   ],
   "source": [
    "\n",
    "print(\"p(survived|x) = %f \" % (posteriorSurvived(x) ))\n",
    "print(\"p(notSurvived|x) = %f \" % (posteriorNotSurvived(x)))"
   ]
  },
  {
   "cell_type": "markdown",
   "metadata": {},
   "source": [
    "Da $p(\\vec x)$ für ein gegebenen Merkmalsvektor $\\vec x$ konstant ist und somit die Entscheidung nicht beeinflusst muss $p(\\vec x)$ für die finale Klassifikation nicht berechnet werden. Des weiteren wird aus nummerischen Gründen typischerweise der Logarithmus der Wahrscheinlichkeiten eingesetzt (https://en.wikipedia.org/wiki/Log_probability).\n",
    "\n",
    "Der naive Bayes-Klassifikator läst sich somit auch wie folgt formulieren:\n",
    "\n",
    "\\begin{equation}\n",
    "\\begin{aligned}\n",
    "C_y &= \\operatorname{argmax}_{k \\in L} \\log{( P(C_k) \\prod_{i=1}^n p(x_i \\vert C_k))} \\\\\n",
    "    &= \\operatorname{argmax}_{k \\in L}  \\log{P(C_k)} + \\sum_{i=1}^n \\log{p(x_i \\vert C_k)}\n",
    "\\end{aligned}\n",
    "\\end{equation}\n",
    "\n",
    "\n",
    "Implementieren und testen Sie die entsprechende Entscheidungsfunktion."
   ]
  },
  {
   "cell_type": "code",
   "execution_count": 155,
   "metadata": {},
   "outputs": [],
   "source": [
    "def logPosteriorSurvived(x):      \n",
    "    return math.log(numeratorPosteriorSurvived(x))\n",
    "    \n",
    "def logPosteriorNotSurvived(x):   \n",
    "    return math.log(numeratorPosteriorNotSurvived(x))\n",
    "    \n",
    "def predict(x):\n",
    "    return int(logPosteriorSurvived(x) > logPosteriorNotSurvived(x))"
   ]
  },
  {
   "cell_type": "code",
   "execution_count": 156,
   "metadata": {},
   "outputs": [
    {
     "data": {
      "text/plain": [
       "1"
      ]
     },
     "execution_count": 156,
     "metadata": {},
     "output_type": "execute_result"
    }
   ],
   "source": [
    "predict(x)"
   ]
  },
  {
   "cell_type": "markdown",
   "metadata": {},
   "source": []
  },
  {
   "cell_type": "markdown",
   "metadata": {},
   "source": [
    "Wenden Sie den von Ihnen implementierten Algorithmus auf den Datensatz an und ermitteln Sie die Korrektklassifizierungsrate."
   ]
  },
  {
   "cell_type": "code",
   "execution_count": 162,
   "metadata": {},
   "outputs": [
    {
     "name": "stdout",
     "output_type": "stream",
     "text": [
      "1005\n",
      "265\n",
      "740\n",
      "304\n",
      "0.7677616501145913\n"
     ]
    }
   ],
   "source": [
    "trueEntries = 0\n",
    "falseEntries = 0\n",
    "truePositive = 0\n",
    "trueNegative = 0\n",
    "for index,row in df.iterrows():\n",
    "    if predict(row) == row.Survived:\n",
    "        if row.Survived == 1:\n",
    "            truePositive += 1\n",
    "        else:\n",
    "            trueNegative +=1\n",
    "        trueEntries +=1\n",
    "    else:\n",
    "        falseEntries +=1\n",
    "        \n",
    "print(trueEntries)\n",
    "print(truePositive)\n",
    "print(trueNegative)\n",
    "print(falseEntries)\n",
    "print(trueEntries/(trueEntries+falseEntries))"
   ]
  },
  {
   "cell_type": "code",
   "execution_count": null,
   "metadata": {},
   "outputs": [],
   "source": []
  }
 ],
 "metadata": {
  "anaconda-cloud": {},
  "kernelspec": {
   "display_name": "Python 3",
   "language": "python",
   "name": "python3"
  },
  "language_info": {
   "codemirror_mode": {
    "name": "ipython",
    "version": 3
   },
   "file_extension": ".py",
   "mimetype": "text/x-python",
   "name": "python",
   "nbconvert_exporter": "python",
   "pygments_lexer": "ipython3",
   "version": "3.8.3"
  }
 },
 "nbformat": 4,
 "nbformat_minor": 4
}
